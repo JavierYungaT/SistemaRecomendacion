
  {
   "cell_type": "markdown",
   "metadata": {},
   "source": [
    "###  IMPOTAMOS LAS LIBRERIAS  "
   ]
  },
  {
   "cell_type": "code",
   "execution_count": 36,
   "metadata": {},
   "outputs": [
    {
     "name": "stdout",
     "output_type": "stream",
     "text": [
      "Librerias importadas\n"
     ]
    }
   ],
   "source": [
    "import pandas as pd\n",
    "import numpy as np\n",
    "from zipfile import ZipFile\n",
    "import tensorflow as tf\n",
    "from tensorflow import keras\n",
    "from tensorflow.keras import layers\n",
    "from pathlib import Path\n",
    "import matplotlib.pyplot as plt\n",
    "from sklearn.model_selection import train_test_split\n",
    "from sklearn.model_selection import cross_val_score\n",
    "from sklearn.model_selection import KFold\n",
    "from sklearn.pipeline import Pipeline\n",
    "from sklearn.preprocessing import MinMaxScaler\n",
    "from tensorflow.python.keras.models import Sequential\n",
    "from tensorflow.python.keras.layers import Dense\n",
    "from tensorflow.python.keras.wrappers.scikit_learn import KerasRegressor\n",
    "import matplotlib.pyplot as plt\n",
    "from sklearn.metrics import pairwise_distances\n",
    "from scipy.spatial.distance import cosine, correlation\n",
    "from subprocess import check_output\n",
    "\n",
    "print('Librerias importadas')"
   ]
  },
  {
   "cell_type": "markdown",
   "metadata": {},
   "source": [
    "### CARGAMOS EL DATASET MOVIELENS "
   ]
  },
  {
   "cell_type": "code",
   "execution_count": 37,
   "metadata": {},
   "outputs": [
    {
     "data": {
      "text/html": [
       "<div>\n",
       "<style scoped>\n",
       "    .dataframe tbody tr th:only-of-type {\n",
       "        vertical-align: middle;\n",
       "    }\n",
       "\n",
       "    .dataframe tbody tr th {\n",
       "        vertical-align: top;\n",
       "    }\n",
       "\n",
       "    .dataframe thead th {\n",
       "        text-align: right;\n",
       "    }\n",
       "</style>\n",
       "<table border=\"1\" class=\"dataframe\">\n",
       "  <thead>\n",
       "    <tr style=\"text-align: right;\">\n",
       "      <th></th>\n",
       "      <th>userId</th>\n",
       "      <th>movieId</th>\n",
       "      <th>rating</th>\n",
       "      <th>timestamp</th>\n",
       "    </tr>\n",
       "  </thead>\n",
       "  <tbody>\n",
       "    <tr>\n",
       "      <th>0</th>\n",
       "      <td>1</td>\n",
       "      <td>1</td>\n",
       "      <td>4.0</td>\n",
       "      <td>964982703</td>\n",
       "    </tr>\n",
       "    <tr>\n",
       "      <th>1</th>\n",
       "      <td>1</td>\n",
       "      <td>3</td>\n",
       "      <td>4.0</td>\n",
       "      <td>964981247</td>\n",
       "    </tr>\n",
       "    <tr>\n",
       "      <th>2</th>\n",
       "      <td>1</td>\n",
       "      <td>6</td>\n",
       "      <td>4.0</td>\n",
       "      <td>964982224</td>\n",
       "    </tr>\n",
       "    <tr>\n",
       "      <th>3</th>\n",
       "      <td>1</td>\n",
       "      <td>47</td>\n",
       "      <td>5.0</td>\n",
       "      <td>964983815</td>\n",
       "    </tr>\n",
       "    <tr>\n",
       "      <th>4</th>\n",
       "      <td>1</td>\n",
       "      <td>50</td>\n",
       "      <td>5.0</td>\n",
       "      <td>964982931</td>\n",
       "    </tr>\n",
       "  </tbody>\n",
       "</table>\n",
       "</div>"
      ],
      "text/plain": [
       "   userId  movieId  rating  timestamp\n",
       "0       1        1     4.0  964982703\n",
       "1       1        3     4.0  964981247\n",
       "2       1        6     4.0  964982224\n",
       "3       1       47     5.0  964983815\n",
       "4       1       50     5.0  964982931"
      ]
     },
     "execution_count": 37,
     "metadata": {},
     "output_type": "execute_result"
    }
   ],
   "source": [
    "# Download the actual data from http://files.grouplens.org/datasets/movielens/ml-latest-small.zip\"\n",
    "# Use the ratings.csv file\n",
    "movielens_data_file_url = (\n",
    "    \"http://files.grouplens.org/datasets/movielens/ml-latest-small.zip\"\n",
    ")\n",
    "movielens_zipped_file = keras.utils.get_file(\n",
    "    \"ml-latest-small.zip\", movielens_data_file_url, extract=False\n",
    ")\n",
    "keras_datasets_path = Path(movielens_zipped_file).parents[0]\n",
    "movielens_dir = keras_datasets_path / \"ml-latest-small\"\n",
    "\n",
    "# Only extract the data the first time the script is run.\n",
    "if not movielens_dir.exists():\n",
    "    with ZipFile(movielens_zipped_file, \"r\") as zip:\n",
    "        # Extract files\n",
    "        print(\"Extracting all the files now...\")\n",
    "        zip.extractall(path=keras_datasets_path)\n",
    "        print(\"Done!\")\n",
    "\n",
    "ratings_file = movielens_dir / \"ratings.csv\"\n",
    "df = pd.read_csv(ratings_file)\n",
    "df.head()"
   ]
  },
  {
   "cell_type": "markdown",
   "metadata": {},
   "source": [
    "### VISUALIZAMOS LOS DATOS DE LAS PELICULAS  "
   ]
  },
  {
   "cell_type": "code",
   "execution_count": 38,
   "metadata": {},
   "outputs": [
    {
     "name": "stdout",
     "output_type": "stream",
     "text": [
      "(1682, 24)\n"
     ]
    },
    {
     "data": {
      "text/html": [
       "<div>\n",
       "<style scoped>\n",
       "    .dataframe tbody tr th:only-of-type {\n",
       "        vertical-align: middle;\n",
       "    }\n",
       "\n",
       "    .dataframe tbody tr th {\n",
       "        vertical-align: top;\n",
       "    }\n",
       "\n",
       "    .dataframe thead th {\n",
       "        text-align: right;\n",
       "    }\n",
       "</style>\n",
       "<table border=\"1\" class=\"dataframe\">\n",
       "  <thead>\n",
       "    <tr style=\"text-align: right;\">\n",
       "      <th></th>\n",
       "      <th>movie id</th>\n",
       "      <th>movie title</th>\n",
       "      <th>release date</th>\n",
       "      <th>video release date</th>\n",
       "      <th>IMDb URL</th>\n",
       "      <th>unknown</th>\n",
       "      <th>Action</th>\n",
       "      <th>Adventure</th>\n",
       "      <th>Animation</th>\n",
       "      <th>Children's</th>\n",
       "      <th>...</th>\n",
       "      <th>Fantasy</th>\n",
       "      <th>Film-Noir</th>\n",
       "      <th>Horror</th>\n",
       "      <th>Musical</th>\n",
       "      <th>Mystery</th>\n",
       "      <th>Romance</th>\n",
       "      <th>Sci-Fi</th>\n",
       "      <th>Thriller</th>\n",
       "      <th>War</th>\n",
       "      <th>Western</th>\n",
       "    </tr>\n",
       "  </thead>\n",
       "  <tbody>\n",
       "    <tr>\n",
       "      <th>0</th>\n",
       "      <td>1</td>\n",
       "      <td>Toy Story (1995)</td>\n",
       "      <td>01-Jan-1995</td>\n",
       "      <td>NaN</td>\n",
       "      <td>http://us.imdb.com/M/title-exact?Toy%20Story%2...</td>\n",
       "      <td>0</td>\n",
       "      <td>0</td>\n",
       "      <td>0</td>\n",
       "      <td>1</td>\n",
       "      <td>1</td>\n",
       "      <td>...</td>\n",
       "      <td>0</td>\n",
       "      <td>0</td>\n",
       "      <td>0</td>\n",
       "      <td>0</td>\n",
       "      <td>0</td>\n",
       "      <td>0</td>\n",
       "      <td>0</td>\n",
       "      <td>0</td>\n",
       "      <td>0</td>\n",
       "      <td>0</td>\n",
       "    </tr>\n",
       "    <tr>\n",
       "      <th>1</th>\n",
       "      <td>2</td>\n",
       "      <td>GoldenEye (1995)</td>\n",
       "      <td>01-Jan-1995</td>\n",
       "      <td>NaN</td>\n",
       "      <td>http://us.imdb.com/M/title-exact?GoldenEye%20(...</td>\n",
       "      <td>0</td>\n",
       "      <td>1</td>\n",
       "      <td>1</td>\n",
       "      <td>0</td>\n",
       "      <td>0</td>\n",
       "      <td>...</td>\n",
       "      <td>0</td>\n",
       "      <td>0</td>\n",
       "      <td>0</td>\n",
       "      <td>0</td>\n",
       "      <td>0</td>\n",
       "      <td>0</td>\n",
       "      <td>0</td>\n",
       "      <td>1</td>\n",
       "      <td>0</td>\n",
       "      <td>0</td>\n",
       "    </tr>\n",
       "    <tr>\n",
       "      <th>2</th>\n",
       "      <td>3</td>\n",
       "      <td>Four Rooms (1995)</td>\n",
       "      <td>01-Jan-1995</td>\n",
       "      <td>NaN</td>\n",
       "      <td>http://us.imdb.com/M/title-exact?Four%20Rooms%...</td>\n",
       "      <td>0</td>\n",
       "      <td>0</td>\n",
       "      <td>0</td>\n",
       "      <td>0</td>\n",
       "      <td>0</td>\n",
       "      <td>...</td>\n",
       "      <td>0</td>\n",
       "      <td>0</td>\n",
       "      <td>0</td>\n",
       "      <td>0</td>\n",
       "      <td>0</td>\n",
       "      <td>0</td>\n",
       "      <td>0</td>\n",
       "      <td>1</td>\n",
       "      <td>0</td>\n",
       "      <td>0</td>\n",
       "    </tr>\n",
       "    <tr>\n",
       "      <th>3</th>\n",
       "      <td>4</td>\n",
       "      <td>Get Shorty (1995)</td>\n",
       "      <td>01-Jan-1995</td>\n",
       "      <td>NaN</td>\n",
       "      <td>http://us.imdb.com/M/title-exact?Get%20Shorty%...</td>\n",
       "      <td>0</td>\n",
       "      <td>1</td>\n",
       "      <td>0</td>\n",
       "      <td>0</td>\n",
       "      <td>0</td>\n",
       "      <td>...</td>\n",
       "      <td>0</td>\n",
       "      <td>0</td>\n",
       "      <td>0</td>\n",
       "      <td>0</td>\n",
       "      <td>0</td>\n",
       "      <td>0</td>\n",
       "      <td>0</td>\n",
       "      <td>0</td>\n",
       "      <td>0</td>\n",
       "      <td>0</td>\n",
       "    </tr>\n",
       "    <tr>\n",
       "      <th>4</th>\n",
       "      <td>5</td>\n",
       "      <td>Copycat (1995)</td>\n",
       "      <td>01-Jan-1995</td>\n",
       "      <td>NaN</td>\n",
       "      <td>http://us.imdb.com/M/title-exact?Copycat%20(1995)</td>\n",
       "      <td>0</td>\n",
       "      <td>0</td>\n",
       "      <td>0</td>\n",
       "      <td>0</td>\n",
       "      <td>0</td>\n",
       "      <td>...</td>\n",
       "      <td>0</td>\n",
       "      <td>0</td>\n",
       "      <td>0</td>\n",
       "      <td>0</td>\n",
       "      <td>0</td>\n",
       "      <td>0</td>\n",
       "      <td>0</td>\n",
       "      <td>1</td>\n",
       "      <td>0</td>\n",
       "      <td>0</td>\n",
       "    </tr>\n",
       "  </tbody>\n",
       "</table>\n",
       "<p>5 rows × 24 columns</p>\n",
       "</div>"
      ],
      "text/plain": [
       "   movie id        movie title release date  video release date  \\\n",
       "0         1   Toy Story (1995)  01-Jan-1995                 NaN   \n",
       "1         2   GoldenEye (1995)  01-Jan-1995                 NaN   \n",
       "2         3  Four Rooms (1995)  01-Jan-1995                 NaN   \n",
       "3         4  Get Shorty (1995)  01-Jan-1995                 NaN   \n",
       "4         5     Copycat (1995)  01-Jan-1995                 NaN   \n",
       "\n",
       "                                            IMDb URL  unknown  Action  \\\n",
       "0  http://us.imdb.com/M/title-exact?Toy%20Story%2...        0       0   \n",
       "1  http://us.imdb.com/M/title-exact?GoldenEye%20(...        0       1   \n",
       "2  http://us.imdb.com/M/title-exact?Four%20Rooms%...        0       0   \n",
       "3  http://us.imdb.com/M/title-exact?Get%20Shorty%...        0       1   \n",
       "4  http://us.imdb.com/M/title-exact?Copycat%20(1995)        0       0   \n",
       "\n",
       "   Adventure  Animation  Children's  ...  Fantasy  Film-Noir  Horror  Musical  \\\n",
       "0          0          1           1  ...        0          0       0        0   \n",
       "1          1          0           0  ...        0          0       0        0   \n",
       "2          0          0           0  ...        0          0       0        0   \n",
       "3          0          0           0  ...        0          0       0        0   \n",
       "4          0          0           0  ...        0          0       0        0   \n",
       "\n",
       "   Mystery  Romance  Sci-Fi  Thriller  War  Western  \n",
       "0        0        0       0         0    0        0  \n",
       "1        0        0       0         1    0        0  \n",
       "2        0        0       0         1    0        0  \n",
       "3        0        0       0         0    0        0  \n",
       "4        0        0       0         1    0        0  \n",
       "\n",
       "[5 rows x 24 columns]"
      ]
     },
     "execution_count": 38,
     "metadata": {},
     "output_type": "execute_result"
    }
   ],
   "source": [
    "# Data de usuarios\n",
    "u_cols = ['user_id', 'age', 'sex', 'occupation', 'zip_code']\n",
    "users = pd.read_csv('ml-100k/u.user', sep='|', names=u_cols,encoding='latin-1')\n",
    "\n",
    "\n",
    "\n",
    "# Data de películas\n",
    "i_cols = ['movie id', 'movie title' ,'release date','video release date', 'IMDb URL', 'unknown', 'Action', 'Adventure',\n",
    "'Animation', 'Children\\'s', 'Comedy', 'Crime', 'Documentary', 'Drama', 'Fantasy',\n",
    "'Film-Noir', 'Horror', 'Musical', 'Mystery', 'Romance', 'Sci-Fi', 'Thriller', 'War', 'Western']\n",
    "items = pd.read_csv('ml-100k/u.item', sep='|', names=i_cols,\n",
    "encoding='latin-1')\n",
    "\n",
    "\n",
    "\n",
    "print(items.shape)\n",
    "items.head()\n"
   ]
  },
  {
   "cell_type": "markdown",
   "metadata": {},
   "source": [
    "### VISUALIZAMOS LOS DATOS DE USUARIOS"
   ]
  },
  {
   "cell_type": "code",
   "execution_count": 39,
   "metadata": {},
   "outputs": [
    {
     "name": "stdout",
     "output_type": "stream",
     "text": [
      "(943, 5)\n"
     ]
    },
    {
     "data": {
      "text/html": [
       "<div>\n",
       "<style scoped>\n",
       "    .dataframe tbody tr th:only-of-type {\n",
       "        vertical-align: middle;\n",
       "    }\n",
       "\n",
       "    .dataframe tbody tr th {\n",
       "        vertical-align: top;\n",
       "    }\n",
       "\n",
       "    .dataframe thead th {\n",
       "        text-align: right;\n",
       "    }\n",
       "</style>\n",
       "<table border=\"1\" class=\"dataframe\">\n",
       "  <thead>\n",
       "    <tr style=\"text-align: right;\">\n",
       "      <th></th>\n",
       "      <th>user_id</th>\n",
       "      <th>age</th>\n",
       "      <th>sex</th>\n",
       "      <th>occupation</th>\n",
       "      <th>zip_code</th>\n",
       "    </tr>\n",
       "  </thead>\n",
       "  <tbody>\n",
       "    <tr>\n",
       "      <th>0</th>\n",
       "      <td>1</td>\n",
       "      <td>24</td>\n",
       "      <td>M</td>\n",
       "      <td>technician</td>\n",
       "      <td>85711</td>\n",
       "    </tr>\n",
       "    <tr>\n",
       "      <th>1</th>\n",
       "      <td>2</td>\n",
       "      <td>53</td>\n",
       "      <td>F</td>\n",
       "      <td>other</td>\n",
       "      <td>94043</td>\n",
       "    </tr>\n",
       "    <tr>\n",
       "      <th>2</th>\n",
       "      <td>3</td>\n",
       "      <td>23</td>\n",
       "      <td>M</td>\n",
       "      <td>writer</td>\n",
       "      <td>32067</td>\n",
       "    </tr>\n",
       "    <tr>\n",
       "      <th>3</th>\n",
       "      <td>4</td>\n",
       "      <td>24</td>\n",
       "      <td>M</td>\n",
       "      <td>technician</td>\n",
       "      <td>43537</td>\n",
       "    </tr>\n",
       "    <tr>\n",
       "      <th>4</th>\n",
       "      <td>5</td>\n",
       "      <td>33</td>\n",
       "      <td>F</td>\n",
       "      <td>other</td>\n",
       "      <td>15213</td>\n",
       "    </tr>\n",
       "  </tbody>\n",
       "</table>\n",
       "</div>"
      ],
      "text/plain": [
       "   user_id  age sex  occupation zip_code\n",
       "0        1   24   M  technician    85711\n",
       "1        2   53   F       other    94043\n",
       "2        3   23   M      writer    32067\n",
       "3        4   24   M  technician    43537\n",
       "4        5   33   F       other    15213"
      ]
     },
     "execution_count": 39,
     "metadata": {},
     "output_type": "execute_result"
    }
   ],
   "source": [
    "# Ahora podemos revisar la data\n",
    "print(users.shape)\n",
    "users.head()"
   ]
  },
  {
   "cell_type": "code",
   "execution_count": 40,
   "metadata": {},
   "outputs": [
    {
     "data": {
      "text/html": [
       "<div>\n",
       "<style scoped>\n",
       "    .dataframe tbody tr th:only-of-type {\n",
       "        vertical-align: middle;\n",
       "    }\n",
       "\n",
       "    .dataframe tbody tr th {\n",
       "        vertical-align: top;\n",
       "    }\n",
       "\n",
       "    .dataframe thead th {\n",
       "        text-align: right;\n",
       "    }\n",
       "</style>\n",
       "<table border=\"1\" class=\"dataframe\">\n",
       "  <thead>\n",
       "    <tr style=\"text-align: right;\">\n",
       "      <th></th>\n",
       "      <th>user_id</th>\n",
       "      <th>movie_id</th>\n",
       "      <th>rating</th>\n",
       "      <th>unix_timestamp</th>\n",
       "    </tr>\n",
       "  </thead>\n",
       "  <tbody>\n",
       "    <tr>\n",
       "      <th>0</th>\n",
       "      <td>196</td>\n",
       "      <td>242</td>\n",
       "      <td>3</td>\n",
       "      <td>881250949</td>\n",
       "    </tr>\n",
       "    <tr>\n",
       "      <th>1</th>\n",
       "      <td>186</td>\n",
       "      <td>302</td>\n",
       "      <td>3</td>\n",
       "      <td>891717742</td>\n",
       "    </tr>\n",
       "    <tr>\n",
       "      <th>2</th>\n",
       "      <td>22</td>\n",
       "      <td>377</td>\n",
       "      <td>1</td>\n",
       "      <td>878887116</td>\n",
       "    </tr>\n",
       "    <tr>\n",
       "      <th>3</th>\n",
       "      <td>244</td>\n",
       "      <td>51</td>\n",
       "      <td>2</td>\n",
       "      <td>880606923</td>\n",
       "    </tr>\n",
       "    <tr>\n",
       "      <th>4</th>\n",
       "      <td>166</td>\n",
       "      <td>346</td>\n",
       "      <td>1</td>\n",
       "      <td>886397596</td>\n",
       "    </tr>\n",
       "  </tbody>\n",
       "</table>\n",
       "</div>"
      ],
      "text/plain": [
       "   user_id  movie_id  rating  unix_timestamp\n",
       "0      196       242       3       881250949\n",
       "1      186       302       3       891717742\n",
       "2       22       377       1       878887116\n",
       "3      244        51       2       880606923\n",
       "4      166       346       1       886397596"
      ]
     },
     "execution_count": 40,
     "metadata": {},
     "output_type": "execute_result"
    }
   ],
   "source": [
    "# Data de ratings\n",
    "r_cols = ['user_id', 'movie_id', 'rating', 'unix_timestamp']\n",
    "ratings = pd.read_csv('ml-100k/u.data', sep='\\t', names=r_cols,encoding='latin-1')\n",
    "ratings.head()"
   ]
  },
  {
   "cell_type": "code",
   "execution_count": 41,
   "metadata": {},
   "outputs": [],
   "source": [
    "seed = 7\n",
    "np.random.seed(seed)\n",
    "\n",
    "x_tr = ratings.drop(['rating'], axis=1)\n",
    "y_tr = ratings.drop(['user_id','movie_id','unix_timestamp'],axis=1)"
   ]
  },
  {
   "cell_type": "markdown",
   "metadata": {},
   "source": [
    "### NORMALIZAMOS  "
   ]
  },
  {
   "cell_type": "code",
   "execution_count": 42,
   "metadata": {},
   "outputs": [
    {
     "name": "stdout",
     "output_type": "stream",
     "text": [
      "MinMaxScaler(copy=True, feature_range=(0, 1))\n",
      "MinMaxScaler(copy=True, feature_range=(0, 1))\n"
     ]
    }
   ],
   "source": [
    "y_tr=np.reshape(y_tr, (-1,1))\n",
    "y_tr\n",
    "#Normalización\n",
    "scaler_x = MinMaxScaler()\n",
    "scaler_y = MinMaxScaler()\n",
    "print(scaler_x.fit(x_tr))\n",
    "xscale=scaler_x.transform(x_tr)\n",
    "print(scaler_y.fit(y_tr))\n",
    "yscale=scaler_y.transform(y_tr)"
   ]
  },
  {
   "cell_type": "markdown",
   "metadata": {},
   "source": [
    "###  DIVISION EN TRAIN Y TEST"
   ]
  },
  {
   "cell_type": "code",
   "execution_count": 43,
   "metadata": {},
   "outputs": [],
   "source": [
    "#Split en train y test.\n",
    "X_train, X_test, y_train, y_test = train_test_split(xscale, yscale)"
   ]
  },
  {
   "cell_type": "markdown",
   "metadata": {},
   "source": [
    "###  REALIZAMOS UN PREPROCESAMIENTO PARA CODIFICAR  USUARIOS Y PELICULAS COMO INDICES ENTEROS. "
   ]
  },
  {
   "cell_type": "code",
   "execution_count": 44,
   "metadata": {},
   "outputs": [
    {
     "name": "stdout",
     "output_type": "stream",
     "text": [
      "Number of users: 610, Number of Movies: 9724, Min rating: 0.5, Max rating: 5.0\n"
     ]
    }
   ],
   "source": [
    "user_ids = df[\"userId\"].unique().tolist()\n",
    "user2user_encoded = {x: i for i, x in enumerate(user_ids)}\n",
    "userencoded2user = {i: x for i, x in enumerate(user_ids)}\n",
    "movie_ids = df[\"movieId\"].unique().tolist()\n",
    "movie2movie_encoded = {x: i for i, x in enumerate(movie_ids)}\n",
    "movie_encoded2movie = {i: x for i, x in enumerate(movie_ids)}\n",
    "df[\"user\"] = df[\"userId\"].map(user2user_encoded)\n",
    "df[\"movie\"] = df[\"movieId\"].map(movie2movie_encoded)\n",
    "\n",
    "num_users = len(user2user_encoded)\n",
    "num_movies = len(movie_encoded2movie)\n",
    "df[\"rating\"] = df[\"rating\"].values.astype(np.float32)\n",
    "# min and max ratings will be used to normalize the ratings later\n",
    "min_rating = min(df[\"rating\"])\n",
    "max_rating = max(df[\"rating\"])\n",
    "\n",
    "print(\n",
    "    \"Number of users: {}, Number of Movies: {}, Min rating: {}, Max rating: {}\".format(\n",
    "        num_users, num_movies, min_rating, max_rating\n",
    "    )\n",
    ")"
   ]
  },
  {
   "cell_type": "markdown",
   "metadata": {},
   "source": [
    "### SE PREPARA LOS DATOS DE CAPACITACION Y VALIDACION "
   ]
  },
  {
   "cell_type": "code",
   "execution_count": 45,
   "metadata": {},
   "outputs": [],
   "source": [
    "df = df.sample(frac=1, random_state=42)\n",
    "x = df[[\"user\", \"movie\"]].values\n",
    "# Normalize the targets between 0 and 1. Makes it easy to train.\n",
    "y = df[\"rating\"].apply(lambda x: (x - min_rating) / (max_rating - min_rating)).values\n",
    "# Assuming training on 90% of the data and validating on 10%.\n",
    "train_indices = int(0.9 * df.shape[0])\n",
    "x_train, x_val, y_train, y_val = (\n",
    "    x[:train_indices],\n",
    "    x[train_indices:],\n",
    "    y[:train_indices],\n",
    "    y[train_indices:],\n",
    ")"
   ]
  },
  {
   "cell_type": "markdown",
   "metadata": {},
   "source": [
    "### CREAMOS EL MODELO CON 50 DIMENSIONES IMPLEMANTANDO LAS METRICAS (MAE, ACC)"
   ]
  },
  {
   "cell_type": "code",
   "execution_count": 46,
   "metadata": {},
   "outputs": [],
   "source": [
    "EMBEDDING_SIZE = 50\n",
    "\n",
    "\n",
    "class RecommenderNet(keras.Model):\n",
    "    def __init__(self, num_users, num_movies, embedding_size, **kwargs):\n",
    "        super(RecommenderNet, self).__init__(**kwargs)\n",
    "        self.num_users = num_users\n",
    "        self.num_movies = num_movies\n",
    "        self.embedding_size = embedding_size\n",
    "        self.user_embedding = layers.Embedding(\n",
    "            num_users,\n",
    "            embedding_size,\n",
    "            embeddings_initializer=\"he_normal\",\n",
    "            embeddings_regularizer=keras.regularizers.l2(1e-6),\n",
    "        )\n",
    "        self.user_bias = layers.Embedding(num_users, 1)\n",
    "        self.movie_embedding = layers.Embedding(\n",
    "            num_movies,\n",
    "            embedding_size,\n",
    "            embeddings_initializer=\"he_normal\",\n",
    "            embeddings_regularizer=keras.regularizers.l2(1e-6),\n",
    "        )\n",
    "        self.movie_bias = layers.Embedding(num_movies, 1)\n",
    "\n",
    "    def call(self, inputs):\n",
    "        user_vector = self.user_embedding(inputs[:, 0])\n",
    "        user_bias = self.user_bias(inputs[:, 0])\n",
    "        movie_vector = self.movie_embedding(inputs[:, 1])\n",
    "        movie_bias = self.movie_bias(inputs[:, 1])\n",
    "        dot_user_movie = tf.tensordot(user_vector, movie_vector, 2)\n",
    "        # Add all the components (including bias)\n",
    "        x = dot_user_movie + user_bias + movie_bias\n",
    "        # The sigmoid activation forces the rating to between 0 and 1\n",
    "        return tf.nn.sigmoid(x)\n",
    "\n",
    "\n",
    "model = RecommenderNet(num_users, num_movies, EMBEDDING_SIZE)\n",
    "model.compile(\n",
    "    loss=tf.keras.losses.BinaryCrossentropy(), optimizer=keras.optimizers.Adam(lr=0.001), metrics=[\"mae\", \"acc\"]\n",
    ")"
   ]
  },
  {
   "cell_type": "markdown",
   "metadata": {},
   "source": [
    "### ENTRENAMOS EL MODELO CON LA DIVISION DE DATOS. "
   ]
  },
  {
   "cell_type": "code",
   "execution_count": 62,
   "metadata": {},
   "outputs": [
    {
     "name": "stdout",
     "output_type": "stream",
     "text": [
      "Train on 90752 samples, validate on 10084 samples\n",
      "Epoch 1/5\n",
      "90752/90752 [==============================] - 28s 306us/sample - loss: 0.6062 - mae: 0.1547 - acc: 0.1355 - val_loss: 0.6115 - val_mae: 0.1597 - val_acc: 0.1316060 -\n",
      "Epoch 2/5\n",
      "90752/90752 [==============================] - 28s 304us/sample - loss: 0.6068 - mae: 0.1547 - acc: 0.1354 - val_loss: 0.6133 - val_mae: 0.1619 - val_acc: 0.1321\n",
      "Epoch 3/5\n",
      "90752/90752 [==============================] - 28s 310us/sample - loss: 0.6061 - mae: 0.1541 - acc: 0.1356 - val_loss: 0.6122 - val_mae: 0.1601 - val_acc: 0.1320\n",
      "Epoch 4/5\n",
      "90752/90752 [==============================] - 28s 311us/sample - loss: 0.6055 - mae: 0.1532 - acc: 0.1356 - val_loss: 0.6110 - val_mae: 0.1581 - val_acc: 0.1323\n",
      "Epoch 5/5\n",
      "90752/90752 [==============================] - 28s 308us/sample - loss: 0.6054 - mae: 0.1532 - acc: 0.1363 - val_loss: 0.6117 - val_mae: 0.1594 - val_acc: 0.1311\n",
      "Time finish: 139.8338017463684\n"
     ]
    }
   ],
   "source": [
    "\n",
    "import time \n",
    "start = time.time()\n",
    "history = model.fit( \n",
    "    x=x_train, \n",
    "    y=y_train,\n",
    "    batch_size=64,\n",
    "    epochs=5, \n",
    "    verbose=1,\n",
    "    validation_data=(x_val, y_val), )\n",
    "\n",
    "print(\"Time finish:\",time.time() - start)"
   ]
  },
  {
   "cell_type": "markdown",
   "metadata": {},
   "source": [
    "### CALCULAMOS EL ERRO MEDIO DE TRAIN Y TEST "
   ]
  },
  {
   "cell_type": "code",
   "execution_count": 63,
   "metadata": {},
   "outputs": [
    {
     "name": "stdout",
     "output_type": "stream",
     "text": [
      "Error medio train 0.15398331\n",
      "Error medio test 0.15982786\n"
     ]
    }
   ],
   "source": [
    "print(\"Error medio train\", np.mean(history.history[\"mae\"]))\n",
    "print(\"Error medio test\", np.mean(history.history[\"val_mae\"]))"
   ]
  },
  {
   "cell_type": "markdown",
   "metadata": {},
   "source": [
    "### CREAMOS LAS GRAFICAS DEL MODELO DE MAE CON LOS EPOCH COMPILADOS ANTERIORMENTE "
   ]
  },
  {
   "cell_type": "code",
   "execution_count": 64,
   "metadata": {},
   "outputs": [
    {
     "data": {
      "image/png": "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\n",
      "text/plain": [
       "<Figure size 432x288 with 1 Axes>"
      ]
     },
     "metadata": {
      "needs_background": "light"
     },
     "output_type": "display_data"
    }
   ],
   "source": [
    "# Graficamos el modelo entrenado con base a los epoch , por medio de train y test\n",
    "plt.plot(history.history[\"mae\"])\n",
    "plt.plot(history.history[\"val_mae\"])\n",
    "plt.title(\"Modelo MAE\")\n",
    "plt.ylabel(\"mae\")\n",
    "plt.xlabel(\"epoch\")\n",
    "plt.legend([\"train\", \"test\"], loc=\"upper left\")\n",
    "plt.show()"
   ]
  },
  {
   "cell_type": "markdown",
   "metadata": {},
   "source": [
    "### CREAMOS LA GRAFICA CON EL ACCURACY OBTENIDO "
   ]
  },
  {
   "cell_type": "code",
   "execution_count": 65,
   "metadata": {},
   "outputs": [
    {
     "data": {
      "image/png": "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\n",
      "text/plain": [
       "<Figure size 432x288 with 1 Axes>"
      ]
     },
     "metadata": {
      "needs_background": "light"
     },
     "output_type": "display_data"
    }
   ],
   "source": [
    "## Grafica de error ACC\n",
    "\n",
    "plt.plot(history.history[\"acc\"])\n",
    "plt.plot(history.history[\"val_acc\"])\n",
    "plt.title(\"Modelo Accuracy\")\n",
    "plt.ylabel(\"accuracy\")\n",
    "plt.xlabel(\"epoch\")\n",
    "plt.legend([\"train\", \"test\"], loc=\"upper left\")\n",
    "plt.show()"
   ]
  },
  {
   "cell_type": "code",
   "execution_count": 66,
   "metadata": {},
   "outputs": [
    {
     "name": "stdout",
     "output_type": "stream",
     "text": [
      "Mostrando recomendaciones para el usuario: 242\n",
      "====================================\n",
      "Películas con altas calificaciones del usuario\n",
      "--------------------------------\n",
      "Twelve Monkeys (a.k.a. 12 Monkeys) (1995) : Mystery|Sci-Fi|Thriller\n",
      "Interview with the Vampire: The Vampire Chronicles (1994) : Drama|Horror\n",
      "Pulp Fiction (1994) : Comedy|Crime|Drama|Thriller\n",
      "Quiz Show (1994) : Drama\n",
      "Silence of the Lambs, The (1991) : Crime|Horror|Thriller\n",
      "--------------------------------\n",
      "Las 10 mejores recomendaciones de películas\n",
      "--------------------------------\n",
      "Boot, Das (Boat, The) (1981) : Action|Drama|War\n",
      "Glory (1989) : Drama|War\n",
      "Miller's Crossing (1990) : Crime|Drama|Film-Noir|Thriller\n",
      "Touch of Evil (1958) : Crime|Film-Noir|Thriller\n",
      "Femme Nikita, La (Nikita) (1990) : Action|Crime|Romance|Thriller\n",
      "Chinatown (1974) : Crime|Film-Noir|Mystery|Thriller\n",
      "Shining, The (1980) : Horror\n",
      "Cool Hand Luke (1967) : Drama\n",
      "Matrix, The (1999) : Action|Sci-Fi|Thriller\n",
      "Logan (2017) : Action|Sci-Fi\n"
     ]
    }
   ],
   "source": [
    "movie_df = pd.read_csv(movielens_dir / \"movies.csv\")\n",
    "\n",
    "# Let us get a user and see the top recommendations.\n",
    "user_id = df.userId.sample(1).iloc[0]\n",
    "movies_watched_by_user = df[df.userId == user_id]\n",
    "movies_not_watched = movie_df[\n",
    "    ~movie_df[\"movieId\"].isin(movies_watched_by_user.movieId.values)\n",
    "][\"movieId\"]\n",
    "movies_not_watched = list(\n",
    "    set(movies_not_watched).intersection(set(movie2movie_encoded.keys()))\n",
    ")\n",
    "movies_not_watched = [[movie2movie_encoded.get(x)] for x in movies_not_watched]\n",
    "user_encoder = user2user_encoded.get(user_id)\n",
    "user_movie_array = np.hstack(\n",
    "    ([[user_encoder]] * len(movies_not_watched), movies_not_watched)\n",
    ")\n",
    "ratings = model.predict(user_movie_array).flatten()\n",
    "top_ratings_indices = ratings.argsort()[-10:][::-1]\n",
    "recommended_movie_ids = [\n",
    "    movie_encoded2movie.get(movies_not_watched[x][0]) for x in top_ratings_indices\n",
    "]\n",
    "\n",
    "\n",
    "print(\"Mostrando recomendaciones para el usuario: {}\".format(user_id))\n",
    "print(\"====\" * 9)\n",
    "print(\"Películas con altas calificaciones del usuario\")\n",
    "print(\"----\" * 8)\n",
    "top_movies_user = (\n",
    "    movies_watched_by_user.sort_values(by=\"rating\", ascending=False)\n",
    "    .head(5)\n",
    "    .movieId.values\n",
    ")\n",
    "movie_df_rows = movie_df[movie_df[\"movieId\"].isin(top_movies_user)]\n",
    "for row in movie_df_rows.itertuples():\n",
    "    print(row.title, \":\", row.genres)\n",
    "\n",
    "print(\"----\" * 8)\n",
    "print(\"Las 10 mejores recomendaciones de películas\")\n",
    "print(\"----\" * 8)\n",
    "recommended_movies = movie_df[movie_df[\"movieId\"].isin(recommended_movie_ids)]\n",
    "for row in recommended_movies.itertuples():\n",
    "    print(row.title, \":\", row.genres)\n",
    "\n",
    "    "
   ]
  },
  {
   "cell_type": "markdown",
   "metadata": {},
   "source": [
    "# MODELO BASE"
   ]
  },
  {
   "cell_type": "code",
   "execution_count": 67,
   "metadata": {},
   "outputs": [],
   "source": [
    "import pandas as pd\n",
    "import numpy as np\n",
    "from zipfile import ZipFile\n",
    "import tensorflow as tf\n",
    "from tensorflow import keras\n",
    "from tensorflow.keras import layers\n",
    "from pathlib import Path\n",
    "import matplotlib.pyplot as plt"
   ]
  },
  {
   "cell_type": "code",
   "execution_count": 68,
   "metadata": {},
   "outputs": [],
   "source": [
    "# Download the actual data from http://files.grouplens.org/datasets/movielens/ml-latest-small.zip\"\n",
    "# Use the ratings.csv file\n",
    "movielens_data_file_url = (\n",
    "    \"http://files.grouplens.org/datasets/movielens/ml-latest-small.zip\"\n",
    ")\n",
    "movielens_zipped_file = keras.utils.get_file(\n",
    "    \"ml-latest-small.zip\", movielens_data_file_url, extract=False\n",
    ")\n",
    "keras_datasets_path = Path(movielens_zipped_file).parents[0]\n",
    "movielens_dir = keras_datasets_path / \"ml-latest-small\"\n",
    "\n",
    "# Only extract the data the first time the script is run.\n",
    "if not movielens_dir.exists():\n",
    "    with ZipFile(movielens_zipped_file, \"r\") as zip:\n",
    "        # Extract files\n",
    "        print(\"Extracting all the files now...\")\n",
    "        zip.extractall(path=keras_datasets_path)\n",
    "        print(\"Done!\")\n",
    "\n",
    "ratings_file = movielens_dir / \"ratings.csv\"\n",
    "df = pd.read_csv(ratings_file)"
   ]
  },
  {
   "cell_type": "code",
   "execution_count": 69,
   "metadata": {},
   "outputs": [
    {
     "name": "stdout",
     "output_type": "stream",
     "text": [
      "Number of users: 610, Number of Movies: 9724, Min rating: 0.5, Max rating: 5.0\n"
     ]
    }
   ],
   "source": [
    "user_ids = df[\"userId\"].unique().tolist()\n",
    "user2user_encoded = {x: i for i, x in enumerate(user_ids)}\n",
    "userencoded2user = {i: x for i, x in enumerate(user_ids)}\n",
    "movie_ids = df[\"movieId\"].unique().tolist()\n",
    "movie2movie_encoded = {x: i for i, x in enumerate(movie_ids)}\n",
    "movie_encoded2movie = {i: x for i, x in enumerate(movie_ids)}\n",
    "df[\"user\"] = df[\"userId\"].map(user2user_encoded)\n",
    "df[\"movie\"] = df[\"movieId\"].map(movie2movie_encoded)\n",
    "\n",
    "num_users = len(user2user_encoded)\n",
    "num_movies = len(movie_encoded2movie)\n",
    "df[\"rating\"] = df[\"rating\"].values.astype(np.float32)\n",
    "# min and max ratings will be used to normalize the ratings later\n",
    "min_rating = min(df[\"rating\"])\n",
    "max_rating = max(df[\"rating\"])\n",
    "\n",
    "print(\n",
    "    \"Number of users: {}, Number of Movies: {}, Min rating: {}, Max rating: {}\".format(\n",
    "        num_users, num_movies, min_rating, max_rating\n",
    "    )\n",
    ")"
   ]
  },
  {
   "cell_type": "code",
   "execution_count": 70,
   "metadata": {},
   "outputs": [],
   "source": [
    "df = df.sample(frac=1, random_state=42)\n",
    "x = df[[\"user\", \"movie\"]].values\n",
    "# Normalize the targets between 0 and 1. Makes it easy to train.\n",
    "y = df[\"rating\"].apply(lambda x: (x - min_rating) / (max_rating - min_rating)).values\n",
    "# Assuming training on 90% of the data and validating on 10%.\n",
    "train_indices = int(0.9 * df.shape[0])\n",
    "x_train, x_val, y_train, y_val = (\n",
    "    x[:train_indices],\n",
    "    x[train_indices:],\n",
    "    y[:train_indices],\n",
    "    y[train_indices:],\n",
    ")"
   ]
  },
  {
   "cell_type": "code",
   "execution_count": 71,
   "metadata": {},
   "outputs": [],
   "source": [
    "EMBEDDING_SIZE = 50\n",
    "\n",
    "\n",
    "class RecommenderNet(keras.Model):\n",
    "    def __init__(self, num_users, num_movies, embedding_size, **kwargs):\n",
    "        super(RecommenderNet, self).__init__(**kwargs)\n",
    "        self.num_users = num_users\n",
    "        self.num_movies = num_movies\n",
    "        self.embedding_size = embedding_size\n",
    "        self.user_embedding = layers.Embedding(\n",
    "            num_users,\n",
    "            embedding_size,\n",
    "            embeddings_initializer=\"he_normal\",\n",
    "            embeddings_regularizer=keras.regularizers.l2(1e-6),\n",
    "        )\n",
    "        self.user_bias = layers.Embedding(num_users, 1)\n",
    "        self.movie_embedding = layers.Embedding(\n",
    "            num_movies,\n",
    "            embedding_size,\n",
    "            embeddings_initializer=\"he_normal\",\n",
    "            embeddings_regularizer=keras.regularizers.l2(1e-6),\n",
    "        )\n",
    "        self.movie_bias = layers.Embedding(num_movies, 1)\n",
    "\n",
    "    def call(self, inputs):\n",
    "        user_vector = self.user_embedding(inputs[:, 0])\n",
    "        user_bias = self.user_bias(inputs[:, 0])\n",
    "        movie_vector = self.movie_embedding(inputs[:, 1])\n",
    "        movie_bias = self.movie_bias(inputs[:, 1])\n",
    "        dot_user_movie = tf.tensordot(user_vector, movie_vector, 2)\n",
    "        # Add all the components (including bias)\n",
    "        x = dot_user_movie + user_bias + movie_bias\n",
    "        # The sigmoid activation forces the rating to between 0 and 1\n",
    "        return tf.nn.sigmoid(x)\n",
    "\n",
    "\n",
    "model = RecommenderNet(num_users, num_movies, EMBEDDING_SIZE)\n",
    "model.compile(\n",
    "    loss=tf.keras.losses.BinaryCrossentropy(), optimizer=keras.optimizers.Adam(lr=0.001), metrics=[\"mae\", \"acc\"]\n",
    ")"
   ]
  },
  {
   "cell_type": "code",
   "execution_count": 72,
   "metadata": {},
   "outputs": [
    {
     "name": "stdout",
     "output_type": "stream",
     "text": [
      "Train on 90752 samples, validate on 10084 samples\n",
      "Epoch 1/5\n"
     ]
    },
    {
     "name": "stderr",
     "output_type": "stream",
     "text": [
      "D:\\Anaconda\\envs\\AmbienteRedesNeuronales\\lib\\site-packages\\tensorflow_core\\python\\framework\\indexed_slices.py:433: UserWarning: Converting sparse IndexedSlices to a dense Tensor of unknown shape. This may consume a large amount of memory.\n",
      "  \"Converting sparse IndexedSlices to a dense Tensor of unknown shape. \"\n",
      "D:\\Anaconda\\envs\\AmbienteRedesNeuronales\\lib\\site-packages\\tensorflow_core\\python\\framework\\indexed_slices.py:433: UserWarning: Converting sparse IndexedSlices to a dense Tensor of unknown shape. This may consume a large amount of memory.\n",
      "  \"Converting sparse IndexedSlices to a dense Tensor of unknown shape. \"\n"
     ]
    },
    {
     "name": "stdout",
     "output_type": "stream",
     "text": [
      "90752/90752 [==============================] - 30s 329us/sample - loss: 0.6361 - mae: 0.1861 - acc: 0.1272 - val_loss: 0.6205 - val_mae: 0.1684 - val_acc: 0.1294\n",
      "Epoch 2/5\n",
      "90752/90752 [==============================] - 27s 303us/sample - loss: 0.6135 - mae: 0.1628 - acc: 0.1331 - val_loss: 0.6179 - val_mae: 0.1693 - val_acc: 0.1315\n",
      "Epoch 3/5\n",
      "90752/90752 [==============================] - 28s 305us/sample - loss: 0.6089 - mae: 0.1580 - acc: 0.1343 - val_loss: 0.6137 - val_mae: 0.1637 - val_acc: 0.1317\n",
      "Epoch 4/5\n",
      "90752/90752 [==============================] - 28s 309us/sample - loss: 0.6072 - mae: 0.1562 - acc: 0.1349 - val_loss: 0.6127 - val_mae: 0.1618 - val_acc: 0.1320\n",
      "Epoch 5/5\n",
      "90752/90752 [==============================] - 29s 316us/sample - loss: 0.6074 - mae: 0.1558 - acc: 0.1350 - val_loss: 0.6124 - val_mae: 0.1608 - val_acc: 0.1316\n"
     ]
    }
   ],
   "source": [
    "history1 = model.fit(\n",
    "    x=x_train,\n",
    "    y=y_train,\n",
    "    batch_size=64,\n",
    "    epochs=5,\n",
    "    verbose=1,\n",
    "    validation_data=(x_val, y_val),\n",
    ")"
   ]
  },
  {
   "cell_type": "code",
   "execution_count": 73,
   "metadata": {},
   "outputs": [
    {
     "data": {
      "image/png": "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\n",
      "text/plain": [
       "<Figure size 432x288 with 1 Axes>"
      ]
     },
     "metadata": {
      "needs_background": "light"
     },
     "output_type": "display_data"
    }
   ],
   "source": [
    "plt.plot(history1.history[\"mae\"])\n",
    "plt.plot(history1.history[\"val_mae\"])\n",
    "plt.title(\"model loss\")\n",
    "plt.ylabel(\"loss\")\n",
    "plt.xlabel(\"epoch\")\n",
    "plt.legend([\"train\", \"test\"], loc=\"upper left\")\n",
    "plt.show()"
   ]
  },
  {
   "cell_type": "markdown",
   "metadata": {},
   "source": [
    "# Comparación"
   ]
  },
  {
   "cell_type": "code",
   "execution_count": 85,
   "metadata": {},
   "outputs": [
    {
     "data": {
      "image/png": "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\n",
      "text/plain": [
       "<Figure size 432x288 with 1 Axes>"
      ]
     },
     "metadata": {
      "needs_background": "light"
     },
     "output_type": "display_data"
    }
   ],
   "source": [
    "plt.plot(history1.history[\"mae\"])\n",
    "plt.plot(history1.history[\"val_mae\"])\n",
    "\n",
    "plt.plot(history.history[\"mae\"] ,'o-')\n",
    "plt.plot(history.history[\"val_mae\"],'o-')\n",
    "\n",
    "plt.title(\"Modelo mejorado\" )\n",
    "plt.ylabel(\"mae\")\n",
    "plt.xlabel(\"epoch\")\n",
    "plt.legend([\"train base\", \"test base\", \"train mejorado\", \"test mejorado\"], loc=\"upper right\")\n",
    "plt.show()"
   ]
  },
  {
   "cell_type": "markdown",
   "metadata": {},
   "source": [
    "# Trabajo adicional  "
   ]
  },
  {
   "cell_type": "code",
   "execution_count": null,
   "metadata": {},
   "outputs": [],
   "source": []
  },
  {
   "cell_type": "markdown",
   "metadata": {},
   "source": [
    "# Collaborative Filtering\n",
    "\n",
    "El filtrado colaborativo simplemente utiliza la \"sabiduría de la multitud\" para recomendar elementos. El filtrado colaborativo basado en elementos utiliza los patrones de los usuarios a los que les gustó la misma película que a mí para recomendarme una película (a los usuarios que les gustó la película que me gusta, a mí también les gustaron estas otras películas). Se realiza una recomendación basada en la entrada del usuario de cualquier película presente en el conjunto de datos."
   ]
  },
  {
   "cell_type": "markdown",
   "metadata": {},
   "source": [
    "# RECOMENDACION DE PELICULAS APLICANDO PIVOT "
   ]
  },
  {
   "cell_type": "code",
   "execution_count": 514,
   "metadata": {},
   "outputs": [],
   "source": [
    "import numpy as np \n",
    "import pandas as pd \n",
    "import matplotlib.pyplot as plt\n",
    "from sklearn.metrics import pairwise_distances\n",
    "from scipy.spatial.distance import cosine, correlation"
   ]
  },
  {
   "cell_type": "code",
   "execution_count": 516,
   "metadata": {},
   "outputs": [
    {
     "data": {
      "text/html": [
       "<div>\n",
       "<style scoped>\n",
       "    .dataframe tbody tr th:only-of-type {\n",
       "        vertical-align: middle;\n",
       "    }\n",
       "\n",
       "    .dataframe tbody tr th {\n",
       "        vertical-align: top;\n",
       "    }\n",
       "\n",
       "    .dataframe thead th {\n",
       "        text-align: right;\n",
       "    }\n",
       "</style>\n",
       "<table border=\"1\" class=\"dataframe\">\n",
       "  <thead>\n",
       "    <tr style=\"text-align: right;\">\n",
       "      <th></th>\n",
       "      <th>movie_id</th>\n",
       "      <th>title</th>\n",
       "      <th>release_date</th>\n",
       "      <th>video_release_date</th>\n",
       "      <th>imdb_url</th>\n",
       "      <th>user_id</th>\n",
       "      <th>rating</th>\n",
       "      <th>unix_timestamp</th>\n",
       "      <th>age</th>\n",
       "      <th>sex</th>\n",
       "      <th>occupation</th>\n",
       "      <th>zip_code</th>\n",
       "    </tr>\n",
       "  </thead>\n",
       "  <tbody>\n",
       "    <tr>\n",
       "      <th>0</th>\n",
       "      <td>1</td>\n",
       "      <td>Toy Story (1995)</td>\n",
       "      <td>01-Jan-1995</td>\n",
       "      <td>NaN</td>\n",
       "      <td>http://us.imdb.com/M/title-exact?Toy%20Story%2...</td>\n",
       "      <td>308</td>\n",
       "      <td>4</td>\n",
       "      <td>887736532</td>\n",
       "      <td>60</td>\n",
       "      <td>M</td>\n",
       "      <td>retired</td>\n",
       "      <td>95076</td>\n",
       "    </tr>\n",
       "    <tr>\n",
       "      <th>1</th>\n",
       "      <td>4</td>\n",
       "      <td>Get Shorty (1995)</td>\n",
       "      <td>01-Jan-1995</td>\n",
       "      <td>NaN</td>\n",
       "      <td>http://us.imdb.com/M/title-exact?Get%20Shorty%...</td>\n",
       "      <td>308</td>\n",
       "      <td>5</td>\n",
       "      <td>887737890</td>\n",
       "      <td>60</td>\n",
       "      <td>M</td>\n",
       "      <td>retired</td>\n",
       "      <td>95076</td>\n",
       "    </tr>\n",
       "  </tbody>\n",
       "</table>\n",
       "</div>"
      ],
      "text/plain": [
       "   movie_id              title release_date  video_release_date  \\\n",
       "0         1   Toy Story (1995)  01-Jan-1995                 NaN   \n",
       "1         4  Get Shorty (1995)  01-Jan-1995                 NaN   \n",
       "\n",
       "                                            imdb_url  user_id  rating  \\\n",
       "0  http://us.imdb.com/M/title-exact?Toy%20Story%2...      308       4   \n",
       "1  http://us.imdb.com/M/title-exact?Get%20Shorty%...      308       5   \n",
       "\n",
       "   unix_timestamp  age sex occupation zip_code  \n",
       "0       887736532   60   M    retired    95076  \n",
       "1       887737890   60   M    retired    95076  "
      ]
     },
     "execution_count": 516,
     "metadata": {},
     "output_type": "execute_result"
    }
   ],
   "source": [
    "u_cols = ['user_id', 'age', 'sex', 'occupation', 'zip_code']\n",
    "users = pd.read_csv('ml-100k/u.user', sep='|', names=u_cols,encoding='latin-1')\n",
    "\n",
    "#u_cols = ['user_id', 'age', 'sex', 'occupation', 'zip_code']\n",
    "#users = pd.read_csv('ml-100k/u.user', sep='|', names=u_cols,encoding='latin-1', parse_dates=True) \n",
    "r_cols = ['user_id', 'movie_id', 'rating', 'unix_timestamp']\n",
    "ratings = pd.read_csv('ml-100k/u.data', sep='\\t', names=r_cols,encoding='latin-1')\n",
    "\n",
    "#r_cols = ['user_id', 'movie_id', 'rating', 'unix_timestamp']\n",
    "#ratings = pd.read_csv('ml-100k/u.data', sep='\\t', names=r_cols,encoding='latin-1')\n",
    "\n",
    "m_cols = ['movie_id', 'title', 'release_date', 'video_release_date', 'imdb_url']\n",
    "movies = pd.read_csv('ml-100k/u.item', sep='|', names=m_cols, usecols=range(5),encoding='latin-1')\n",
    "\n",
    "movie_ratings = pd.merge(movies, ratings)\n",
    "df = pd.merge(movie_ratings, users)\n",
    "\n",
    "df.head(2)"
   ]
  },
  {
   "cell_type": "markdown",
   "metadata": {},
   "source": [
    "### Preprocesamiento de datos "
   ]
  },
  {
   "cell_type": "code",
   "execution_count": 517,
   "metadata": {},
   "outputs": [
    {
     "name": "stdout",
     "output_type": "stream",
     "text": [
      "<class 'pandas.core.frame.DataFrame'>\n",
      "Int64Index: 100000 entries, 0 to 99999\n",
      "Data columns (total 9 columns):\n",
      " #   Column        Non-Null Count   Dtype \n",
      "---  ------        --------------   ----- \n",
      " 0   movie_id      100000 non-null  int64 \n",
      " 1   title         100000 non-null  object\n",
      " 2   release_date  99991 non-null   object\n",
      " 3   user_id       100000 non-null  int64 \n",
      " 4   rating        100000 non-null  int64 \n",
      " 5   age           100000 non-null  int64 \n",
      " 6   sex           100000 non-null  object\n",
      " 7   occupation    100000 non-null  object\n",
      " 8   zip_code      100000 non-null  object\n",
      "dtypes: int64(4), object(5)\n",
      "memory usage: 7.6+ MB\n"
     ]
    }
   ],
   "source": [
    "df.drop(df.columns[[3,4,7]], axis=1, inplace=True)\n",
    "ratings.drop( \"unix_timestamp\", inplace = True, axis = 1 ) \n",
    "movies.drop(movies.columns[[3,4]], inplace = True, axis = 1 )\n",
    "# Descartando todas las columnas que realmente no son necesarias\n",
    "df.info()"
   ]
  },
  {
   "cell_type": "markdown",
   "metadata": {},
   "source": [
    "### Clasificaciones de películas "
   ]
  },
  {
   "cell_type": "code",
   "execution_count": 518,
   "metadata": {},
   "outputs": [
    {
     "data": {
      "text/html": [
       "<div>\n",
       "<style scoped>\n",
       "    .dataframe tbody tr th:only-of-type {\n",
       "        vertical-align: middle;\n",
       "    }\n",
       "\n",
       "    .dataframe tbody tr th {\n",
       "        vertical-align: top;\n",
       "    }\n",
       "\n",
       "    .dataframe thead tr th {\n",
       "        text-align: left;\n",
       "    }\n",
       "\n",
       "    .dataframe thead tr:last-of-type th {\n",
       "        text-align: right;\n",
       "    }\n",
       "</style>\n",
       "<table border=\"1\" class=\"dataframe\">\n",
       "  <thead>\n",
       "    <tr>\n",
       "      <th></th>\n",
       "      <th colspan=\"2\" halign=\"left\">rating</th>\n",
       "    </tr>\n",
       "    <tr>\n",
       "      <th></th>\n",
       "      <th>size</th>\n",
       "      <th>mean</th>\n",
       "    </tr>\n",
       "    <tr>\n",
       "      <th>title</th>\n",
       "      <th></th>\n",
       "      <th></th>\n",
       "    </tr>\n",
       "  </thead>\n",
       "  <tbody>\n",
       "    <tr>\n",
       "      <th>'Til There Was You (1997)</th>\n",
       "      <td>9</td>\n",
       "      <td>2.333333</td>\n",
       "    </tr>\n",
       "    <tr>\n",
       "      <th>1-900 (1994)</th>\n",
       "      <td>5</td>\n",
       "      <td>2.600000</td>\n",
       "    </tr>\n",
       "    <tr>\n",
       "      <th>101 Dalmatians (1996)</th>\n",
       "      <td>109</td>\n",
       "      <td>2.908257</td>\n",
       "    </tr>\n",
       "    <tr>\n",
       "      <th>12 Angry Men (1957)</th>\n",
       "      <td>125</td>\n",
       "      <td>4.344000</td>\n",
       "    </tr>\n",
       "    <tr>\n",
       "      <th>187 (1997)</th>\n",
       "      <td>41</td>\n",
       "      <td>3.024390</td>\n",
       "    </tr>\n",
       "  </tbody>\n",
       "</table>\n",
       "</div>"
      ],
      "text/plain": [
       "                          rating          \n",
       "                            size      mean\n",
       "title                                     \n",
       "'Til There Was You (1997)      9  2.333333\n",
       "1-900 (1994)                   5  2.600000\n",
       "101 Dalmatians (1996)        109  2.908257\n",
       "12 Angry Men (1957)          125  4.344000\n",
       "187 (1997)                    41  3.024390"
      ]
     },
     "execution_count": 518,
     "metadata": {},
     "output_type": "execute_result"
    }
   ],
   "source": [
    "movie_stats = df.groupby('title').agg({'rating': [np.size, np.mean]})\n",
    "movie_stats.head()"
   ]
  },
  {
   "cell_type": "markdown",
   "metadata": {},
   "source": [
    " Establecer un umbral de al menos 50 clasificaciones para un mejor análisis."
   ]
  },
  {
   "cell_type": "code",
   "execution_count": 519,
   "metadata": {},
   "outputs": [
    {
     "data": {
      "text/html": [
       "<div>\n",
       "<style scoped>\n",
       "    .dataframe tbody tr th:only-of-type {\n",
       "        vertical-align: middle;\n",
       "    }\n",
       "\n",
       "    .dataframe tbody tr th {\n",
       "        vertical-align: top;\n",
       "    }\n",
       "\n",
       "    .dataframe thead tr th {\n",
       "        text-align: left;\n",
       "    }\n",
       "\n",
       "    .dataframe thead tr:last-of-type th {\n",
       "        text-align: right;\n",
       "    }\n",
       "</style>\n",
       "<table border=\"1\" class=\"dataframe\">\n",
       "  <thead>\n",
       "    <tr>\n",
       "      <th></th>\n",
       "      <th colspan=\"2\" halign=\"left\">rating</th>\n",
       "    </tr>\n",
       "    <tr>\n",
       "      <th></th>\n",
       "      <th>size</th>\n",
       "      <th>mean</th>\n",
       "    </tr>\n",
       "    <tr>\n",
       "      <th>title</th>\n",
       "      <th></th>\n",
       "      <th></th>\n",
       "    </tr>\n",
       "  </thead>\n",
       "  <tbody>\n",
       "    <tr>\n",
       "      <th>Close Shave, A (1995)</th>\n",
       "      <td>112</td>\n",
       "      <td>4.491071</td>\n",
       "    </tr>\n",
       "    <tr>\n",
       "      <th>Schindler's List (1993)</th>\n",
       "      <td>298</td>\n",
       "      <td>4.466443</td>\n",
       "    </tr>\n",
       "    <tr>\n",
       "      <th>Wrong Trousers, The (1993)</th>\n",
       "      <td>118</td>\n",
       "      <td>4.466102</td>\n",
       "    </tr>\n",
       "    <tr>\n",
       "      <th>Casablanca (1942)</th>\n",
       "      <td>243</td>\n",
       "      <td>4.456790</td>\n",
       "    </tr>\n",
       "    <tr>\n",
       "      <th>Wallace &amp; Gromit: The Best of Aardman Animation (1996)</th>\n",
       "      <td>67</td>\n",
       "      <td>4.447761</td>\n",
       "    </tr>\n",
       "  </tbody>\n",
       "</table>\n",
       "</div>"
      ],
      "text/plain": [
       "                                                   rating          \n",
       "                                                     size      mean\n",
       "title                                                              \n",
       "Close Shave, A (1995)                                 112  4.491071\n",
       "Schindler's List (1993)                               298  4.466443\n",
       "Wrong Trousers, The (1993)                            118  4.466102\n",
       "Casablanca (1942)                                     243  4.456790\n",
       "Wallace & Gromit: The Best of Aardman Animation...     67  4.447761"
      ]
     },
     "execution_count": 519,
     "metadata": {},
     "output_type": "execute_result"
    }
   ],
   "source": [
    "min_50 = movie_stats['rating']['size'] >= 50\n",
    "movie_stats[min_50].sort_values([('rating', 'mean')], ascending=False).head()"
   ]
  },
  {
   "cell_type": "code",
   "execution_count": 541,
   "metadata": {},
   "outputs": [
    {
     "data": {
      "image/png": "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\n",
      "text/plain": [
       "<Figure size 432x288 with 1 Axes>"
      ]
     },
     "metadata": {
      "needs_background": "light"
     },
     "output_type": "display_data"
    }
   ],
   "source": [
    "ratings.rating.plot.hist(bins=50)\n",
    "plt.title(\"Distribucion de Users' Ratings\")\n",
    "plt.ylabel('Numeros de Ratings')\n",
    "plt.xlabel('Rating (Out of 5)');"
   ]
  },
  {
   "cell_type": "markdown",
   "metadata": {},
   "source": [
    "### Distribución de edad de los evaluadores "
   ]
  },
  {
   "cell_type": "code",
   "execution_count": 540,
   "metadata": {},
   "outputs": [
    {
     "data": {
      "image/png": "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\n",
      "text/plain": [
       "<Figure size 432x288 with 1 Axes>"
      ]
     },
     "metadata": {
      "needs_background": "light"
     },
     "output_type": "display_data"
    }
   ],
   "source": [
    "users.age.plot.hist(bins=25)\n",
    "plt.title(\"Distribucion de Users' Ages\")\n",
    "plt.ylabel('Numero de Users')\n",
    "plt.xlabel('Age');"
   ]
  },
  {
   "cell_type": "markdown",
   "metadata": {},
   "source": [
    "### Pivot Table "
   ]
  },
  {
   "cell_type": "code",
   "execution_count": 522,
   "metadata": {},
   "outputs": [
    {
     "data": {
      "text/html": [
       "<div>\n",
       "<style scoped>\n",
       "    .dataframe tbody tr th:only-of-type {\n",
       "        vertical-align: middle;\n",
       "    }\n",
       "\n",
       "    .dataframe tbody tr th {\n",
       "        vertical-align: top;\n",
       "    }\n",
       "\n",
       "    .dataframe thead th {\n",
       "        text-align: right;\n",
       "    }\n",
       "</style>\n",
       "<table border=\"1\" class=\"dataframe\">\n",
       "  <thead>\n",
       "    <tr style=\"text-align: right;\">\n",
       "      <th>user_id</th>\n",
       "      <th>1</th>\n",
       "      <th>2</th>\n",
       "      <th>3</th>\n",
       "      <th>4</th>\n",
       "      <th>5</th>\n",
       "      <th>6</th>\n",
       "      <th>7</th>\n",
       "      <th>8</th>\n",
       "      <th>9</th>\n",
       "      <th>10</th>\n",
       "      <th>...</th>\n",
       "      <th>934</th>\n",
       "      <th>935</th>\n",
       "      <th>936</th>\n",
       "      <th>937</th>\n",
       "      <th>938</th>\n",
       "      <th>939</th>\n",
       "      <th>940</th>\n",
       "      <th>941</th>\n",
       "      <th>942</th>\n",
       "      <th>943</th>\n",
       "    </tr>\n",
       "  </thead>\n",
       "  <tbody>\n",
       "    <tr>\n",
       "      <th>0</th>\n",
       "      <td>5.0</td>\n",
       "      <td>4.0</td>\n",
       "      <td>0.0</td>\n",
       "      <td>0.0</td>\n",
       "      <td>4.0</td>\n",
       "      <td>4.0</td>\n",
       "      <td>0.0</td>\n",
       "      <td>0.0</td>\n",
       "      <td>0.0</td>\n",
       "      <td>4.0</td>\n",
       "      <td>...</td>\n",
       "      <td>2.0</td>\n",
       "      <td>3.0</td>\n",
       "      <td>4.0</td>\n",
       "      <td>0.0</td>\n",
       "      <td>4.0</td>\n",
       "      <td>0.0</td>\n",
       "      <td>0.0</td>\n",
       "      <td>5.0</td>\n",
       "      <td>0.0</td>\n",
       "      <td>0.0</td>\n",
       "    </tr>\n",
       "    <tr>\n",
       "      <th>1</th>\n",
       "      <td>3.0</td>\n",
       "      <td>0.0</td>\n",
       "      <td>0.0</td>\n",
       "      <td>0.0</td>\n",
       "      <td>3.0</td>\n",
       "      <td>0.0</td>\n",
       "      <td>0.0</td>\n",
       "      <td>0.0</td>\n",
       "      <td>0.0</td>\n",
       "      <td>0.0</td>\n",
       "      <td>...</td>\n",
       "      <td>4.0</td>\n",
       "      <td>0.0</td>\n",
       "      <td>0.0</td>\n",
       "      <td>0.0</td>\n",
       "      <td>0.0</td>\n",
       "      <td>0.0</td>\n",
       "      <td>0.0</td>\n",
       "      <td>0.0</td>\n",
       "      <td>0.0</td>\n",
       "      <td>5.0</td>\n",
       "    </tr>\n",
       "    <tr>\n",
       "      <th>2</th>\n",
       "      <td>4.0</td>\n",
       "      <td>0.0</td>\n",
       "      <td>0.0</td>\n",
       "      <td>0.0</td>\n",
       "      <td>0.0</td>\n",
       "      <td>0.0</td>\n",
       "      <td>0.0</td>\n",
       "      <td>0.0</td>\n",
       "      <td>0.0</td>\n",
       "      <td>0.0</td>\n",
       "      <td>...</td>\n",
       "      <td>0.0</td>\n",
       "      <td>0.0</td>\n",
       "      <td>4.0</td>\n",
       "      <td>0.0</td>\n",
       "      <td>0.0</td>\n",
       "      <td>0.0</td>\n",
       "      <td>0.0</td>\n",
       "      <td>0.0</td>\n",
       "      <td>0.0</td>\n",
       "      <td>0.0</td>\n",
       "    </tr>\n",
       "    <tr>\n",
       "      <th>3</th>\n",
       "      <td>3.0</td>\n",
       "      <td>0.0</td>\n",
       "      <td>0.0</td>\n",
       "      <td>0.0</td>\n",
       "      <td>0.0</td>\n",
       "      <td>0.0</td>\n",
       "      <td>5.0</td>\n",
       "      <td>0.0</td>\n",
       "      <td>0.0</td>\n",
       "      <td>4.0</td>\n",
       "      <td>...</td>\n",
       "      <td>5.0</td>\n",
       "      <td>0.0</td>\n",
       "      <td>0.0</td>\n",
       "      <td>0.0</td>\n",
       "      <td>0.0</td>\n",
       "      <td>0.0</td>\n",
       "      <td>2.0</td>\n",
       "      <td>0.0</td>\n",
       "      <td>0.0</td>\n",
       "      <td>0.0</td>\n",
       "    </tr>\n",
       "    <tr>\n",
       "      <th>4</th>\n",
       "      <td>3.0</td>\n",
       "      <td>0.0</td>\n",
       "      <td>0.0</td>\n",
       "      <td>0.0</td>\n",
       "      <td>0.0</td>\n",
       "      <td>0.0</td>\n",
       "      <td>0.0</td>\n",
       "      <td>0.0</td>\n",
       "      <td>0.0</td>\n",
       "      <td>0.0</td>\n",
       "      <td>...</td>\n",
       "      <td>0.0</td>\n",
       "      <td>0.0</td>\n",
       "      <td>0.0</td>\n",
       "      <td>0.0</td>\n",
       "      <td>0.0</td>\n",
       "      <td>0.0</td>\n",
       "      <td>0.0</td>\n",
       "      <td>0.0</td>\n",
       "      <td>0.0</td>\n",
       "      <td>0.0</td>\n",
       "    </tr>\n",
       "  </tbody>\n",
       "</table>\n",
       "<p>5 rows × 943 columns</p>\n",
       "</div>"
      ],
      "text/plain": [
       "user_id  1    2    3    4    5    6    7    8    9    10   ...  934  935  936  \\\n",
       "0        5.0  4.0  0.0  0.0  4.0  4.0  0.0  0.0  0.0  4.0  ...  2.0  3.0  4.0   \n",
       "1        3.0  0.0  0.0  0.0  3.0  0.0  0.0  0.0  0.0  0.0  ...  4.0  0.0  0.0   \n",
       "2        4.0  0.0  0.0  0.0  0.0  0.0  0.0  0.0  0.0  0.0  ...  0.0  0.0  4.0   \n",
       "3        3.0  0.0  0.0  0.0  0.0  0.0  5.0  0.0  0.0  4.0  ...  5.0  0.0  0.0   \n",
       "4        3.0  0.0  0.0  0.0  0.0  0.0  0.0  0.0  0.0  0.0  ...  0.0  0.0  0.0   \n",
       "\n",
       "user_id  937  938  939  940  941  942  943  \n",
       "0        0.0  4.0  0.0  0.0  5.0  0.0  0.0  \n",
       "1        0.0  0.0  0.0  0.0  0.0  0.0  5.0  \n",
       "2        0.0  0.0  0.0  0.0  0.0  0.0  0.0  \n",
       "3        0.0  0.0  0.0  2.0  0.0  0.0  0.0  \n",
       "4        0.0  0.0  0.0  0.0  0.0  0.0  0.0  \n",
       "\n",
       "[5 rows x 943 columns]"
      ]
     },
     "execution_count": 522,
     "metadata": {},
     "output_type": "execute_result"
    }
   ],
   "source": [
    "ratings_matrix = ratings.pivot_table(index=['movie_id'],columns=['user_id'],values='rating').reset_index(drop=True)\n",
    "ratings_matrix.fillna( 0, inplace = True )\n",
    "ratings_matrix.head()"
   ]
  },
  {
   "cell_type": "markdown",
   "metadata": {},
   "source": [
    "### Motor de recomendación "
   ]
  },
  {
   "cell_type": "code",
   "execution_count": 524,
   "metadata": {},
   "outputs": [],
   "source": [
    "try:\n",
    "    # user_inp = input ('Ingrese el título de la película de referencia según las recomendaciones que se van a hacer:')\n",
    "    user_inp=\"Speed (1994)\"\n",
    "    inp=movies[movies['title']==user_inp].index.tolist()\n",
    "    inp=inp[0]\n",
    "    \n",
    "    movies['similarity'] = ratings_matrix.iloc[inp]\n",
    "    movies.columns = ['movie_id', 'title', 'release_date','similarity']\n",
    "    movies.head(2)\n",
    "    \n",
    "except:\n",
    "    print(\"Sorry, the movie is not in the database!\")"
   ]
  },
  {
   "cell_type": "code",
   "execution_count": 525,
   "metadata": {},
   "outputs": [
    {
     "name": "stdout",
     "output_type": "stream",
     "text": [
      "Recommended movies based on your choice of  Speed (1994) : \n",
      "      movie_id                             title release_date  similarity\n",
      "705       706                   Bad Moon (1996)  01-Nov-1996         5.0\n",
      "314       315                  Apt Pupil (1998)  23-Oct-1998         5.0\n",
      "152       153       Fish Called Wanda, A (1988)  01-Jan-1988         5.0\n",
      "330       331                  Edge, The (1997)  26-Sep-1997         5.0\n",
      "344       345       Deconstructing Harry (1997)  01-Jan-1997         5.0\n",
      "352       353                Deep Rising (1998)  30-Jan-1998         5.0\n",
      "374       375                  Showgirls (1995)  01-Jan-1995         5.0\n",
      "379       380     Star Trek: Generations (1994)  01-Jan-1994         5.0\n",
      "394       395  Robin Hood: Men in Tights (1993)  01-Jan-1993         5.0\n"
     ]
    }
   ],
   "source": [
    "print(\"Recommended movies based on your choice of \",user_inp ,\": \\n\", movies.sort_values( [\"similarity\"], ascending = False )[1:10])"
   ]
  },
  {
   "cell_type": "code",
   "execution_count": null,
   "metadata": {},
   "outputs": [],
   "source": []
  }
 ],
 "metadata": {
  "kernelspec": {
   "display_name": "Python 3",
   "language": "python",
   "name": "python3"
  },
  "language_info": {
   "codemirror_mode": {
    "name": "ipython",
    "version": 3
   },
   "file_extension": ".py",
   "mimetype": "text/x-python",
   "name": "python",
   "nbconvert_exporter": "python",
   "pygments_lexer": "ipython3",
   "version": "3.7.7"
  }
 },
 "nbformat": 4,
 "nbformat_minor": 2
}
